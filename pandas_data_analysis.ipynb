{
 "cells": [
  {
   "cell_type": "code",
   "execution_count": 1,
   "metadata": {},
   "outputs": [],
   "source": [
    "import pandas as pd"
   ]
  },
  {
   "cell_type": "code",
   "execution_count": 2,
   "metadata": {},
   "outputs": [],
   "source": [
    "def calculate_demographic_data(print_data=True):\n",
    "    # Read data from file\n",
    "    df = pd.read_csv('adult.data.csv')\n",
    "    #print(df.head())   # testing\n",
    "\n",
    "    race_count = pd.Series()\n",
    "    race_count = df['race'].value_counts()\n",
    "    #print(race_count) #testing\n",
    "    \n",
    "    \n",
    "    age_men = df.loc[df['sex'] == 'Male']\n",
    "    average_age_men_pre = age_men['age'].mean()\n",
    "    average_age_men = float(\"{:.1f}\".format(average_age_men_pre))\n",
    "    #print(average_age_men)   # testing\n",
    "    #print(float(average_age_men))\n",
    "\n",
    "    grand_total = len(df.index)\n",
    "    people_with_bachelors = df.loc[df['education'] == 'Bachelors']\n",
    "    total_bachelors = len(people_with_bachelors.index)\n",
    "    percentage_bachelors_pre = total_bachelors / grand_total * 100\n",
    "\n",
    "    percentage_bachelors = float(\"{:.1f}\".format(percentage_bachelors_pre))\n",
    "\n",
    "    # What percentage of people with advanced education (`Bachelors`, `Masters`, or `Doctorate`) make more than 50K?\n",
    "    bachelors_all = df.loc[df['education'] == 'Bachelors']\n",
    "    masters_all = df.loc[df['education'] == 'Masters']\n",
    "    doctorate_all = df.loc[df['education'] == 'Doctorate']\n",
    "    bachelors_money = df.loc[(df['education'] == 'Bachelors' ) & (df['salary'] == '>50K')]\n",
    "    masters_money = df.loc[(df['education'] == 'Masters' ) & (df['salary'] == '>50K')]\n",
    "    doctorate_money = df.loc[(df['education'] == 'Doctorate' ) & (df['salary'] == '>50K')]\n",
    "    total_advanced_education = len(bachelors_all.index) + len(masters_all.index) + len(doctorate_all.index)\n",
    "    advanced_educatio_money = len(bachelors_money.index) + len(masters_money.index) + len(doctorate_money.index)\n",
    "\n",
    "    number_people_without_advanced_education = len(df.index) - total_advanced_education\n",
    "    no_education_table = df.loc[(df['education'] != 'Bachelors') & (df['education'] != 'Masters' ) \n",
    "                        & (df['education'] != 'Doctorate' )]\n",
    "    number_people_no_education = len(no_education_table)\n",
    "    no_education_table_50k = no_education_table.loc[no_education_table['salary'] == '>50K']\n",
    "    number_people_no_education_rich = len(no_education_table_50k.index)\n",
    "    higher_education_rich_pre = advanced_educatio_money / total_advanced_education * 100\n",
    "    \n",
    "    # What percentage of people without advanced education make more than 50K?\n",
    "\n",
    "    # with and without `Bachelors`, `Masters`, or `Doctorate`\n",
    "    higher_education = total_advanced_education\n",
    "    lower_education = number_people_without_advanced_education\n",
    "    lower_education_rich_pre = number_people_no_education_rich / number_people_no_education * 100\n",
    "    \n",
    "    # percentage with salary >50K\n",
    "    higher_education_rich = float(\"{:.1f}\".format(higher_education_rich_pre))\n",
    "    lower_education_rich = float(\"{:.1f}\".format(lower_education_rich_pre))\n",
    "\n",
    "    # What is the minimum number of hours a person works per week (hours-per-week feature)?\n",
    "    min_work_hours = df['hours-per-week'].min()\n",
    "\n",
    "    # What percentage of the people who work the minimum number of hours per week have a salary of >50K?\n",
    "    minimum_number_hours = df['hours-per-week'].min()\n",
    "    minimum_number_hours_table = df.loc[df['hours-per-week'] == minimum_number_hours]\n",
    "    number_minimum_number_hours = len(minimum_number_hours_table.index)\n",
    "    minimum_hours_rich_workers_table = minimum_number_hours_table.loc[minimum_number_hours_table['salary'] == '>50K']\n",
    "    number_minimum_hours_rich_workers = len(minimum_hours_rich_workers_table.index)\n",
    "\n",
    "    num_min_workers = number_minimum_number_hours\n",
    "\n",
    "    rich_percentage = number_minimum_hours_rich_workers / number_minimum_number_hours * 100\n",
    "\n",
    "    # What country has the highest percentage of people that earn >50K?\n",
    "    people_earning_more50k_table = df.loc[df['salary'] == '>50K'] \n",
    "    number_of_more50k_people_per_country = people_earning_more50k_table['native-country'].value_counts()\n",
    "    number_of_people_per_country = df['native-country'].value_counts()\n",
    "    #print(number_of_more50k_people_per_country.head())   #tesint\n",
    "    #print(number_of_people_per_country.head())   #testin\n",
    "    \n",
    "    merged_table = pd.concat([number_of_people_per_country, number_of_more50k_people_per_country ], axis=1)\n",
    "    merged_table.columns.values[0] = 'total'\n",
    "    merged_table.columns.values[1] = 'rich'\n",
    "    percentage = merged_table['rich'] / merged_table['total'] * 100\n",
    "    merged_table['percentage'] = percentage    \n",
    "    #print(merged_table.head())  #testing\n",
    "    highest_earning_country_percentage_pre = merged_table['percentage'].max()\n",
    "    \n",
    "\n",
    "    highest_earning_country = merged_table['percentage'].idxmax()  #exam\n",
    "    highest_earning_country_percentage = float(\"{:.1f}\".format(highest_earning_country_percentage_pre))\n",
    "\n",
    "\n",
    "    \n",
    "    # Identify the most popular occupation for those who earn >50K in India.\n",
    "    people_earning_more50k_india = df.loc[(df['native-country'] == 'India') & (df['salary'] == '>50K')]\n",
    "    occupation_number_india = people_earning_more50k_india['occupation'].value_counts()\n",
    "    top_IN_occupation = occupation_number_india.idxmax()\n",
    "    #print(top_IN_occupation) #testin"
   ]
  },
  {
   "cell_type": "code",
   "execution_count": 3,
   "metadata": {},
   "outputs": [
    {
     "name": "stderr",
     "output_type": "stream",
     "text": [
      "C:\\Users\\User\\AppData\\Local\\Temp/ipykernel_15016/941464107.py:6: DeprecationWarning: The default dtype for empty Series will be 'object' instead of 'float64' in a future version. Specify a dtype explicitly to silence this warning.\n",
      "  race_count = pd.Series()\n"
     ]
    }
   ],
   "source": [
    "calculate_demographic_data()"
   ]
  }
 ],
 "metadata": {
  "kernelspec": {
   "display_name": "Python 3.9.5 64-bit",
   "language": "python",
   "name": "python3"
  },
  "language_info": {
   "codemirror_mode": {
    "name": "ipython",
    "version": 3
   },
   "file_extension": ".py",
   "mimetype": "text/x-python",
   "name": "python",
   "nbconvert_exporter": "python",
   "pygments_lexer": "ipython3",
   "version": "3.9.5"
  },
  "orig_nbformat": 4,
  "vscode": {
   "interpreter": {
    "hash": "11938c6bc6919ae2720b4d5011047913343b08a43b18698fd82dedb0d4417594"
   }
  }
 },
 "nbformat": 4,
 "nbformat_minor": 2
}
